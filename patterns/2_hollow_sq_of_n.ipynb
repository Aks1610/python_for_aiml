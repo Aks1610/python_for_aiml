{
 "cells": [
  {
   "cell_type": "markdown",
   "metadata": {},
   "source": [
    "Hollow Square of side 'N'\n",
    "Problem Description:\n",
    "You are given an integer n. Your task is to return a hollow square pattern of size n x n made up of the character '*', represented as a list of strings. The hollow square has '*' on the border, and spaces ' ' in the middle (except for side lengths of 1 and 2).\n",
    "\n",
    "Input Parameters:\n",
    "n (int): The size of the square (number of rows and columns).\n",
    "\n",
    "Output:\n",
    "A list of strings where each string is a row of n characters, representing a hollow square.\n",
    "\n",
    "Example:\n",
    "Input: 3\n",
    "Output: ['***', '* *', '***']\n",
    " \n",
    "Input: 5\n",
    "Output: ['*****', '*   *', '*   *', '*   *', '*****']"
   ]
  },
  {
   "cell_type": "code",
   "execution_count": 31,
   "metadata": {},
   "outputs": [
    {
     "name": "stdout",
     "output_type": "stream",
     "text": [
      "2\n",
      "['**', '**']\n"
     ]
    }
   ],
   "source": [
    "n=2\n",
    "result = []\n",
    "print(n)\n",
    "for i in range(n):\n",
    "    if i == 0 or i == n-1:\n",
    "        result.append('*'*n)\n",
    "    else:\n",
    "        result.append('*' + ' '*(n-2) + '*')\n",
    "print(result)  "
   ]
  },
  {
   "cell_type": "code",
   "execution_count": 14,
   "metadata": {},
   "outputs": [
    {
     "name": "stdout",
     "output_type": "stream",
     "text": [
      "* * * * * \n",
      "*       * \n",
      "*       * \n",
      "*       * \n",
      "* * * * * \n"
     ]
    }
   ],
   "source": [
    "def hollow_square(side):\n",
    "    for i in range(side):\n",
    "        for j in range(side):\n",
    "            if i == 0 or i == side - 1 or j == 0 or j == side - 1:\n",
    "                print(\"*\", end=\" \")\n",
    "            else:\n",
    "                print(\" \", end=\" \")\n",
    "        print()\n",
    "\n",
    "hollow_square(5)"
   ]
  }
 ],
 "metadata": {
  "kernelspec": {
   "display_name": "Python 3",
   "language": "python",
   "name": "python3"
  },
  "language_info": {
   "codemirror_mode": {
    "name": "ipython",
    "version": 3
   },
   "file_extension": ".py",
   "mimetype": "text/x-python",
   "name": "python",
   "nbconvert_exporter": "python",
   "pygments_lexer": "ipython3",
   "version": "3.12.0"
  }
 },
 "nbformat": 4,
 "nbformat_minor": 2
}
