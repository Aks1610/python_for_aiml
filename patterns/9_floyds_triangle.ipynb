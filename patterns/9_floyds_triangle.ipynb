{
 "cells": [
  {
   "cell_type": "markdown",
   "metadata": {},
   "source": [
    "Floyds Triangle\n",
    "Problem Description:\n",
    "You are given an integer n. Your task is to return the first n rows of Floyd’s Triangle, represented as a list of strings. Floyd's Triangle is a triangular array of natural numbers where the first row contains 1, the second row contains 2 and 3, the third row contains 4, 5, and 6, and so on.\n",
    "\n",
    "Input:\n",
    "A single integer n, where 1 <= n <= 100.\n",
    "\n",
    "Output:\n",
    "A list of strings where each string represents a row in Floyd's Triangle.\n",
    "\n",
    "Example:\n",
    "Input: 5\n",
    "Output: ['1', '2 3', '4 5 6', '7 8 9 10', '11 12 13 14 15']\n",
    " \n",
    "Input: 3\n",
    "Output: ['1', '2 3', '4 5 6']"
   ]
  },
  {
   "cell_type": "code",
   "execution_count": 9,
   "metadata": {},
   "outputs": [
    {
     "name": "stdout",
     "output_type": "stream",
     "text": [
      "5\n",
      "['1', '22', '33', '444', '555', '666', '7777', '8888', '9999', '10101010', '1111111111', '1212121212', '1313131313', '1414141414', '1515151515']\n"
     ]
    }
   ],
   "source": [
    "n=5\n",
    "result = []\n",
    "num = 1\n",
    "for i in range(1,n+1):\n",
    "    for j in range(i):\n",
    "        result.append(str(number)*i)\n",
    "        number=number+1\n",
    "print(result)  "
   ]
  },
  {
   "cell_type": "code",
   "execution_count": null,
   "metadata": {},
   "outputs": [],
   "source": [
    "triangle = []\n",
    "    current_num = 1\n",
    "\n",
    "    for i in range(1, n + 1):\n",
    "        row = ' '.join(str(current_num + j) \n",
    "        for j in range(i))\n",
    "        triangle.append(row)\n",
    "        # Update the current number for the next row\n",
    "        current_num += i\n",
    "    \n",
    "    # Return the list of rows\n",
    "    return triangle"
   ]
  }
 ],
 "metadata": {
  "kernelspec": {
   "display_name": "Python 3",
   "language": "python",
   "name": "python3"
  },
  "language_info": {
   "codemirror_mode": {
    "name": "ipython",
    "version": 3
   },
   "file_extension": ".py",
   "mimetype": "text/x-python",
   "name": "python",
   "nbconvert_exporter": "python",
   "pygments_lexer": "ipython3",
   "version": "3.12.0"
  }
 },
 "nbformat": 4,
 "nbformat_minor": 2
}
