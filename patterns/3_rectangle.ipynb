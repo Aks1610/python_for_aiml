{
 "cells": [
  {
   "cell_type": "markdown",
   "metadata": {},
   "source": [
    "Rectangle Pattern\n",
    "Problem Description:\n",
    "You are given two integers, n and m. Your task is to return a rectangle pattern of '*', where n represents the number of rows (length) and m represents the number of columns (breadth).\n",
    "\n",
    "Input:\n",
    "Two integers n and m, where 1 <= n, m <= 100.\n",
    "\n",
    "Output:\n",
    "A list of strings where each string represents a row of the rectangle pattern.\n",
    "\n",
    "Example:\n",
    "Input: n = 4, m = 5\n",
    "Output: ['*****', '*****', '*****', '*****']\n",
    " \n",
    "Input: n = 3, m = 2\n",
    "Output: ['**', '**', '**']"
   ]
  },
  {
   "cell_type": "code",
   "execution_count": 4,
   "metadata": {},
   "outputs": [
    {
     "name": "stdout",
     "output_type": "stream",
     "text": [
      "4 5\n",
      "['*****', '*****', '*****', '*****']\n"
     ]
    }
   ],
   "source": [
    "n=4\n",
    "m=5\n",
    "result = []\n",
    "print(n,m)\n",
    "for i in range(n):\n",
    "    result.append('*'*m)\n",
    "print(result)  "
   ]
  }
 ],
 "metadata": {
  "kernelspec": {
   "display_name": "Python 3",
   "language": "python",
   "name": "python3"
  },
  "language_info": {
   "codemirror_mode": {
    "name": "ipython",
    "version": 3
   },
   "file_extension": ".py",
   "mimetype": "text/x-python",
   "name": "python",
   "nbconvert_exporter": "python",
   "pygments_lexer": "ipython3",
   "version": "3.12.0"
  }
 },
 "nbformat": 4,
 "nbformat_minor": 2
}
