{
 "cells": [
  {
   "cell_type": "markdown",
   "metadata": {},
   "source": [
    "Pyramid Pattern\n",
    "Problem Description:\n",
    "You are given an integer n. Your task is to return a pyramid pattern of '*' where each side has n rows, represented as a list of strings. The pyramid is centered, with 1 star in the first row, 3 stars in the second row, and so on, increasing by 2 stars per row until the base row has 2n - 1 stars.\n",
    "\n",
    "Input:\n",
    "A single integer n, where 1 <= n <= 100.\n",
    "\n",
    "Output:\n",
    "A list of strings where each string contains stars ('*') centered, forming a pyramid shape. Each row has an increasing number of stars, with appropriate spaces for centering.\n",
    "\n",
    "Example:\n",
    "Input: 3\n",
    "Output: ['  *  ', ' *** ', '*****']\n",
    " \n",
    "Input: 5\n",
    "Output: ['    *    ', '   ***   ', '  *****  ', ' ******* ', '*********']"
   ]
  },
  {
   "cell_type": "code",
   "execution_count": 12,
   "metadata": {},
   "outputs": [
    {
     "name": "stdout",
     "output_type": "stream",
     "text": [
      "3\n",
      "['  *  ', ' *** ', '*****']\n"
     ]
    }
   ],
   "source": [
    "n=3\n",
    "result = []\n",
    "print(n)\n",
    "for i in range(1,n+1):\n",
    "     result.append(' '*(n-i)+'*'*(2*i-1)+' '*(n-i))\n",
    "print(result)  "
   ]
  }
 ],
 "metadata": {
  "kernelspec": {
   "display_name": "Python 3",
   "language": "python",
   "name": "python3"
  },
  "language_info": {
   "codemirror_mode": {
    "name": "ipython",
    "version": 3
   },
   "file_extension": ".py",
   "mimetype": "text/x-python",
   "name": "python",
   "nbconvert_exporter": "python",
   "pygments_lexer": "ipython3",
   "version": "3.12.0"
  }
 },
 "nbformat": 4,
 "nbformat_minor": 2
}
